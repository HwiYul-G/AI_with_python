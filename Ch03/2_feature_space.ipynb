{
 "cells": [
  {
   "cell_type": "code",
   "execution_count": null,
   "metadata": {},
   "outputs": [],
   "source": [
    "# iris 데이터의 분포를 특징 공간에 그리기\n",
    "import plotly.express as px\n",
    "\n",
    "df = px.data.iris()\n",
    "# petal_length를 제외하여 3차원 공간 구성\n",
    "fig = px.scatter_3d(df, x='sepal_length', y='sepal_width', \n",
    "                    z='petal_width', color='species')\n",
    "fig.show(renderer='browser')\n"
   ]
  }
 ],
 "metadata": {
  "language_info": {
   "name": "python"
  },
  "orig_nbformat": 4
 },
 "nbformat": 4,
 "nbformat_minor": 2
}

{
 "cells": [
  {
   "cell_type": "code",
   "execution_count": 2,
   "metadata": {},
   "outputs": [],
   "source": [
    "# program 5-3. 텐서플로가 제공하는 데이터셋의 텐서 구조 확인하기\n",
    "import tensorflow as tf\n",
    "# import tensorflow.keras.datasets as ds"
   ]
  },
  {
   "cell_type": "code",
   "execution_count": 3,
   "metadata": {},
   "outputs": [
    {
     "name": "stdout",
     "output_type": "stream",
     "text": [
      "MNIST:  (60000, 28, 28) (60000,) (60000, 10)\n"
     ]
    }
   ],
   "source": [
    "# MNIST 읽고 텐서 모양 출력\n",
    "\n",
    "# MNIST 데이터셋을 읽어온다.\n",
    "(x_train, y_train), (x_test, y_test) = tf.keras.datasets.mnist.load_data()  #ds.mnist.load_data()\n",
    "# 레이블 정보를 원핫 코드로 변환한다.\n",
    "yy_train = tf.one_hot(y_train, 10, dtype=tf.int8)\n",
    "print(\"MNIST: \", x_train.shape, y_train.shape, yy_train.shape)\n"
   ]
  },
  {
   "cell_type": "code",
   "execution_count": 4,
   "metadata": {},
   "outputs": [
    {
     "name": "stdout",
     "output_type": "stream",
     "text": [
      "Downloading data from https://www.cs.toronto.edu/~kriz/cifar-10-python.tar.gz\n",
      "170498071/170498071 [==============================] - 16s 0us/step\n",
      "CIFAR-10: (50000, 32, 32, 3) (50000, 1) (50000, 1, 10)\n"
     ]
    }
   ],
   "source": [
    "# CIFAR-10 읽고 텐서 모양 출력\n",
    "(x_train, y_train), (x_test, y_test) = tf.keras.datasets.cifar10.load_data()\n",
    "yy_train = tf.one_hot(y_train, 10, dtype=tf.int8)\n",
    "print(\"CIFAR-10:\", x_train.shape, y_train.shape, yy_train.shape)"
   ]
  },
  {
   "cell_type": "code",
   "execution_count": 9,
   "metadata": {},
   "outputs": [
    {
     "name": "stdout",
     "output_type": "stream",
     "text": [
      "Downloading data from https://storage.googleapis.com/tensorflow/tf-keras-datasets/boston_housing.npz\n",
      "57026/57026 [==============================] - 0s 2us/step\n",
      "Boston Housing:  (404, 13) (404,)\n"
     ]
    }
   ],
   "source": [
    "# Boston Housing 읽고 텐서 모양 출력\n",
    "(x_train, y_train), (x_test, y_test) = tf.keras.datasets.boston_housing.load_data()\n",
    "print(\"Boston Housing: \", x_train.shape, y_train.shape)"
   ]
  },
  {
   "cell_type": "code",
   "execution_count": 10,
   "metadata": {},
   "outputs": [
    {
     "name": "stdout",
     "output_type": "stream",
     "text": [
      "Downloading data from https://storage.googleapis.com/tensorflow/tf-keras-datasets/reuters.npz\n",
      "2110848/2110848 [==============================] - 0s 0us/step\n",
      "Reuters:  (8982,) (8982,)\n"
     ]
    }
   ],
   "source": [
    "# Reuters 읽고 텐서 모양 출력\n",
    "(x_train, y_train), (x_test, y_test) = tf.keras.datasets.reuters.load_data()\n",
    "print(\"Reuters: \", x_train.shape, y_train.shape)"
   ]
  }
 ],
 "metadata": {
  "kernelspec": {
   "display_name": "api",
   "language": "python",
   "name": "python3"
  },
  "language_info": {
   "codemirror_mode": {
    "name": "ipython",
    "version": 3
   },
   "file_extension": ".py",
   "mimetype": "text/x-python",
   "name": "python",
   "nbconvert_exporter": "python",
   "pygments_lexer": "ipython3",
   "version": "3.7.16"
  },
  "orig_nbformat": 4,
  "vscode": {
   "interpreter": {
    "hash": "7d6becc2a03eb1d3a0003abbb7d06bd320b2f8d9ef53e81460f893735b5a2d16"
   }
  }
 },
 "nbformat": 4,
 "nbformat_minor": 2
}

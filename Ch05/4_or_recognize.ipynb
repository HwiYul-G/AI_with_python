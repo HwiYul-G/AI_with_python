{
 "cells": [
  {
   "cell_type": "code",
   "execution_count": 1,
   "metadata": {},
   "outputs": [],
   "source": [
    "import tensorflow as tf"
   ]
  },
  {
   "cell_type": "code",
   "execution_count": 2,
   "metadata": {},
   "outputs": [],
   "source": [
    "# OR 데이터 구축\n",
    "x = [[0.0, 0.0], [0.0, 1.0], [1.0, 0.0], [1.0, 1.0]]\n",
    "y = [[-1], [1], [1], [1]]"
   ]
  },
  {
   "cell_type": "code",
   "execution_count": 3,
   "metadata": {},
   "outputs": [],
   "source": [
    "# [그림 4-3(b)]의 퍼셉트론\n",
    "w = tf.Variable([[1.0], [1.0]])\n",
    "b = tf.Variable(-0.5)"
   ]
  },
  {
   "cell_type": "code",
   "execution_count": 4,
   "metadata": {},
   "outputs": [
    {
     "name": "stdout",
     "output_type": "stream",
     "text": [
      "tf.Tensor(\n",
      "[[-1.]\n",
      " [ 1.]\n",
      " [ 1.]\n",
      " [ 1.]], shape=(4, 1), dtype=float32)\n"
     ]
    }
   ],
   "source": [
    "# 식 4.3의 퍼셉트론 동작\n",
    "s = tf.add(tf.matmul(x, w), b)\n",
    "o = tf.sign(s)\n",
    "\n",
    "print(o)"
   ]
  }
 ],
 "metadata": {
  "kernelspec": {
   "display_name": "api",
   "language": "python",
   "name": "python3"
  },
  "language_info": {
   "codemirror_mode": {
    "name": "ipython",
    "version": 3
   },
   "file_extension": ".py",
   "mimetype": "text/x-python",
   "name": "python",
   "nbconvert_exporter": "python",
   "pygments_lexer": "ipython3",
   "version": "3.7.16"
  },
  "orig_nbformat": 4,
  "vscode": {
   "interpreter": {
    "hash": "7d6becc2a03eb1d3a0003abbb7d06bd320b2f8d9ef53e81460f893735b5a2d16"
   }
  }
 },
 "nbformat": 4,
 "nbformat_minor": 2
}

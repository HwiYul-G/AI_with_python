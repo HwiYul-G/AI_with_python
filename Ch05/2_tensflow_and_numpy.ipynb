{
 "cells": [
  {
   "cell_type": "code",
   "execution_count": 1,
   "metadata": {},
   "outputs": [
    {
     "name": "stdout",
     "output_type": "stream",
     "text": [
      "tensorflow로 생성한 텐서 : \n",
      " tf.Tensor(\n",
      "[[0.39681208 0.33872008 0.54051435]\n",
      " [0.04018259 0.62757576 0.8569298 ]], shape=(2, 3), dtype=float32) \n",
      "\n",
      "numpy로 생성한 ndarray:\n",
      " [[0.42634961 0.11544006 0.86218165]\n",
      " [0.52833448 0.92341649 0.42129301]] \n",
      "\n",
      "덧셈 결과: \n",
      " tf.Tensor(\n",
      "[[0.8231617  0.45416015 1.402696  ]\n",
      " [0.5685171  1.5509923  1.2782228 ]], shape=(2, 3), dtype=float32)\n"
     ]
    }
   ],
   "source": [
    "# program 5-2. tensorflow and numpy\n",
    "import tensorflow as tf\n",
    "import numpy as np\n",
    "\n",
    "t = tf.random.uniform([2,3],0,1)\n",
    "n = np.random.uniform(0,1,[2,3])\n",
    "print(\"tensorflow로 생성한 텐서 : \\n\", t, \"\\n\")\n",
    "print(\"numpy로 생성한 ndarray:\\n\",n, \"\\n\")\n",
    "\n",
    "# 텐서 t와 ndarray n의 덧셈\n",
    "res = t + n\n",
    "print(\"덧셈 결과: \\n\", res)"
   ]
  }
 ],
 "metadata": {
  "kernelspec": {
   "display_name": "api",
   "language": "python",
   "name": "python3"
  },
  "language_info": {
   "codemirror_mode": {
    "name": "ipython",
    "version": 3
   },
   "file_extension": ".py",
   "mimetype": "text/x-python",
   "name": "python",
   "nbconvert_exporter": "python",
   "pygments_lexer": "ipython3",
   "version": "3.7.16"
  },
  "orig_nbformat": 4,
  "vscode": {
   "interpreter": {
    "hash": "7d6becc2a03eb1d3a0003abbb7d06bd320b2f8d9ef53e81460f893735b5a2d16"
   }
  }
 },
 "nbformat": 4,
 "nbformat_minor": 2
}

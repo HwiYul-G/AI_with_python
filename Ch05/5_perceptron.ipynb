{
 "cells": [
  {
   "cell_type": "code",
   "execution_count": 1,
   "metadata": {},
   "outputs": [],
   "source": [
    "import tensorflow as tf"
   ]
  },
  {
   "cell_type": "code",
   "execution_count": 2,
   "metadata": {},
   "outputs": [],
   "source": [
    "# OR 데이터 구축\n",
    "x = [[0.0, 0.0], [0.0, 1.0], [1.0, 0.0], [1.0, 1.0]]\n",
    "y = [[-1],[1],[1],[1]]"
   ]
  },
  {
   "cell_type": "code",
   "execution_count": 3,
   "metadata": {},
   "outputs": [],
   "source": [
    "# 가중치 초기화\n",
    "w = tf.Variable(tf.random.uniform([2,1], -0.5, 0.5))\n",
    "b = tf.Variable(tf.zeros([1]))"
   ]
  },
  {
   "cell_type": "code",
   "execution_count": 4,
   "metadata": {},
   "outputs": [],
   "source": [
    "# optimizer\n",
    "opt = tf.keras.optimizers.SGD(learning_rate=0.1)"
   ]
  },
  {
   "cell_type": "code",
   "execution_count": 6,
   "metadata": {},
   "outputs": [],
   "source": [
    "# 전방 계산 (식 (4.3))\n",
    "def forward():\n",
    "    s = tf.add(tf.matmul(x, w), b)\n",
    "    o = tf.tanh(s)\n",
    "    return o\n",
    "\n",
    "# 손실 함수 정의\n",
    "def loss():\n",
    "    o = forward()\n",
    "    return tf.reduce_mean((y-o)**2)"
   ]
  },
  {
   "cell_type": "code",
   "execution_count": 8,
   "metadata": {},
   "outputs": [
    {
     "name": "stdout",
     "output_type": "stream",
     "text": [
      "loss at epoch 0 = 0.71037704\n",
      "loss at epoch 100 = 0.09074241\n",
      "loss at epoch 200 = 0.042073116\n",
      "loss at epoch 300 = 0.026496394\n",
      "loss at epoch 400 = 0.019099958\n"
     ]
    }
   ],
   "source": [
    "# 500세대까지 학습(100세대마다 학습 정보 출력)\n",
    "for i in range(500):\n",
    "    opt.minimize(loss, var_list=[w,b])\n",
    "    if(i%100 == 0):\n",
    "        print('loss at epoch', i ,'=', loss().numpy())"
   ]
  },
  {
   "cell_type": "code",
   "execution_count": 9,
   "metadata": {},
   "outputs": [
    {
     "name": "stdout",
     "output_type": "stream",
     "text": [
      "tf.Tensor(\n",
      "[[-0.8164183 ]\n",
      " [ 0.886439  ]\n",
      " [ 0.88641363]\n",
      " [ 0.9992675 ]], shape=(4, 1), dtype=float32)\n"
     ]
    }
   ],
   "source": [
    "# 학습된 퍼셉트론으로 OR 데이터를 예측\n",
    "o = forward()\n",
    "print(o)"
   ]
  }
 ],
 "metadata": {
  "kernelspec": {
   "display_name": "api",
   "language": "python",
   "name": "python3"
  },
  "language_info": {
   "codemirror_mode": {
    "name": "ipython",
    "version": 3
   },
   "file_extension": ".py",
   "mimetype": "text/x-python",
   "name": "python",
   "nbconvert_exporter": "python",
   "pygments_lexer": "ipython3",
   "version": "3.7.16"
  },
  "orig_nbformat": 4,
  "vscode": {
   "interpreter": {
    "hash": "7d6becc2a03eb1d3a0003abbb7d06bd320b2f8d9ef53e81460f893735b5a2d16"
   }
  }
 },
 "nbformat": 4,
 "nbformat_minor": 2
}

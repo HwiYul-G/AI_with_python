{
 "cells": [
  {
   "cell_type": "code",
   "execution_count": 2,
   "metadata": {},
   "outputs": [
    {
     "name": "stdout",
     "output_type": "stream",
     "text": [
      "[[64.  0.  0.  0.  0.  0.  0.  0.  0.  0.]\n",
      " [ 0. 64.  1.  1.  3.  5.  1.  0.  4.  2.]\n",
      " [ 0.  0. 63.  0.  0.  1.  0.  0.  0.  0.]\n",
      " [ 0.  0.  0. 75.  0.  0.  0.  0.  0.  0.]\n",
      " [ 1.  0.  0.  0. 68.  0.  1.  0.  0.  1.]\n",
      " [ 0.  0.  0.  1.  0. 77.  1.  0.  1.  0.]\n",
      " [ 0.  0.  0.  0.  0.  0. 67.  0.  0.  0.]\n",
      " [ 0.  0.  0.  2.  0.  0.  0. 72.  0.  0.]\n",
      " [ 0.  1.  2.  5.  4.  0.  0.  0. 68.  6.]\n",
      " [ 0.  0.  0.  1.  0.  2.  0.  1.  0. 53.]]\n",
      "테스트 집합에 대한 정확률은 93.3240611961057 %입니다.\n"
     ]
    }
   ],
   "source": [
    "from sklearn import datasets\n",
    "from sklearn.linear_model import Perceptron\n",
    "from sklearn.model_selection import train_test_split\n",
    "import numpy as np\n",
    "\n",
    "# read dataset and split into train and test\n",
    "digit = datasets.load_digits()\n",
    "x_train, x_test, y_train, y_test = train_test_split(\n",
    "    digit.data, digit.target, train_size=0.6\n",
    ")\n",
    "\n",
    "# train Perceptron using fit function\n",
    "p = Perceptron(max_iter=1000, eta0=0.001, verbose=0)\n",
    "p.fit(x_train, y_train) # train model\n",
    "\n",
    "res = p.predict(x_test) # predict test data\n",
    "\n",
    "# confusion matrix\n",
    "conf = np.zeros((10, 10))\n",
    "for i in range(len(res)):\n",
    "    conf[res[i]][y_test[i]] += 1\n",
    "print(conf)\n",
    "\n",
    "# accuracy\n",
    "no_correct = 0\n",
    "for i in range(10):\n",
    "    no_correct += conf[i][i]\n",
    "accuracy = no_correct / len(res)\n",
    "print(\"테스트 집합에 대한 정확률은\", accuracy*100, \"%입니다.\")"
   ]
  }
 ],
 "metadata": {
  "kernelspec": {
   "display_name": "api",
   "language": "python",
   "name": "python3"
  },
  "language_info": {
   "codemirror_mode": {
    "name": "ipython",
    "version": 3
   },
   "file_extension": ".py",
   "mimetype": "text/x-python",
   "name": "python",
   "nbconvert_exporter": "python",
   "pygments_lexer": "ipython3",
   "version": "3.7.16"
  },
  "orig_nbformat": 4,
  "vscode": {
   "interpreter": {
    "hash": "7d6becc2a03eb1d3a0003abbb7d06bd320b2f8d9ef53e81460f893735b5a2d16"
   }
  }
 },
 "nbformat": 4,
 "nbformat_minor": 2
}

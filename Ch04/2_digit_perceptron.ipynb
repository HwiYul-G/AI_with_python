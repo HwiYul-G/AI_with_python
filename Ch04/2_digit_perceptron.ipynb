{
 "cells": [
  {
   "cell_type": "code",
   "execution_count": null,
   "metadata": {},
   "outputs": [],
   "source": [
    "from sklearn import datasets\n",
    "from sklearn.linear_model import Perceptron\n",
    "from sklearn.model_selection import train_test_split\n",
    "import numpy as np\n",
    "\n",
    "# read dataset and split into train and test\n",
    "digit = datasets.load_digits()\n",
    "x_train, x_test, y_train, y_test = train_test_split(\n",
    "    digit.data, digit.target, train_size=0.6\n",
    ")\n",
    "\n",
    "# train Perceptron using fit function\n",
    "p = Perceptron(max_iter=1000, eta=0.001, verbose=0)\n",
    "p.fit(x_train, y_train) # train model\n",
    "\n",
    "res = p.predict(x_test) # predict test data\n",
    "\n",
    "# confusion matrix\n",
    "conf = np.zeros((10, 10))\n",
    "for i in range(len(res)):\n",
    "    conf[][] += 1\n",
    "print(conf)\n",
    "\n",
    "# accuracy\n",
    "no_correct = 0\n",
    "for i in range(10):\n",
    "    "
   ]
  }
 ],
 "metadata": {
  "language_info": {
   "name": "python"
  },
  "orig_nbformat": 4
 },
 "nbformat": 4,
 "nbformat_minor": 2
}

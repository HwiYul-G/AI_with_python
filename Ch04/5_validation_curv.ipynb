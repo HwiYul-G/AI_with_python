{
 "cells": [
  {
   "cell_type": "code",
   "execution_count": 1,
   "metadata": {},
   "outputs": [],
   "source": [
    "# validation_curve 함수로 최적의 은닉 노드 개수 찾기 [프로그램 4-5]\n",
    "from sklearn import datasets\n",
    "from sklearn.neural_network import MLPClassifier\n",
    "from sklearn.model_selection import train_test_split, validation_curve\n",
    "import numpy as np\n",
    "import matplotlib.pyplot as plt\n",
    "import time"
   ]
  },
  {
   "cell_type": "code",
   "execution_count": 2,
   "metadata": {},
   "outputs": [],
   "source": [
    "# read dataset and split into train and test\n",
    "digit = datasets.load_digits()\n",
    "x_train, x_test, y_train, y_test = train_test_split(\n",
    "    digit.data, digit.target, train_size=0.6)"
   ]
  },
  {
   "cell_type": "code",
   "execution_count": 3,
   "metadata": {},
   "outputs": [
    {
     "name": "stdout",
     "output_type": "stream",
     "text": [
      "하이퍼 매개변수 최적화에 걸린 시간은 2.2575151920318604 초입니다.\n"
     ]
    }
   ],
   "source": [
    "# 다층 퍼셉트론을 교차 검증으로 성능 평가 (소요 시간 측정 포함)\n",
    "start = time.time() # start time\n",
    "mlp = MLPClassifier(learning_rate=0.001, batch_size=32, max_iter=300, solver='sgd')\n",
    "# 은닉 노드 개수를 50부터 1000까지 50씩 증가시키면서 성능 평가\n",
    "# 시간이 너무 오래 걸리지 않도록 50 간격으로 설정. 시간이 충분하다면 range(50, 1001, 1)로 실험\n",
    "prange = range(50, 1001, 50)\n",
    "# \n",
    "train_score, test_score = validation_curve(\n",
    "    mlp, x_train, y_train, \n",
    "    param_name=\"hidden_layer_sizes\",\n",
    "    param_range=prange, cv=10,\n",
    "    scoring=\"accuracy\",\n",
    "    n_jobs=4\n",
    ")\n",
    "end = time.time()\n",
    "print(\"하이퍼 매개변수 최적화에 걸린 시간은\", end-start, \"초입니다.\")"
   ]
  },
  {
   "cell_type": "code",
   "execution_count": 4,
   "metadata": {},
   "outputs": [],
   "source": [
    "# 교차 검증 결과의 평균과 분산 구하기\n",
    "train_mean = np.mean(train_score, axis=1)\n",
    "train_std = np.std(train_score, axis=1)\n",
    "test_mean = np.mean(test_score, axis=1)\n",
    "test_std = np.std(test_score, axis=1)\n"
   ]
  },
  {
   "cell_type": "code",
   "execution_count": 5,
   "metadata": {},
   "outputs": [
    {
     "data": {
      "image/png": "[encoded data removed]",
      "text/plain": [
       "<Figure size 640x480 with 1 Axes>"
      ]
     },
     "metadata": {},
     "output_type": "display_data"
    },
    {
     "name": "stdout",
     "output_type": "stream",
     "text": [
      "\n",
      "최적의 은닉층의 노드 개수는 50 개입니다.\n",
      "\n"
     ]
    }
   ],
   "source": [
    "# 성능 그래프 그리기\n",
    "plt.plot(prange, train_mean, label=\"Train score\", color=\"r\")\n",
    "plt.plot(prange, test_mean, label=\"Test score\", color=\"b\")\n",
    "plt.fill_between(prange, train_mean-train_std, train_mean+train_std, alpha=0.2, color=\"r\")\n",
    "plt.fill_between(prange, test_mean-test_std, test_mean+test_std, alpha=0.2, color=\"b\")\n",
    "plt.legend(loc=\"best\")\n",
    "plt.title(\"Validation Curve with MLP\")\n",
    "plt.xlabel(\"Number of hidden nodes\"); plt.ylabel(\"Accuracy\")\n",
    "plt.ylim(0.9, 1.01)\n",
    "plt.grid(axis='both')\n",
    "plt.show()\n",
    "\n",
    "best_number_nodes=prange[np.argmax(test_mean)] # 최적의 은닉 노드 개수\n",
    "print(\"\\n최적의 은닉층의 노드 개수는\", best_number_nodes,\"개입니다.\\n\")"
   ]
  },
  {
   "cell_type": "code",
   "execution_count": 6,
   "metadata": {},
   "outputs": [
    {
     "data": {
      "text/plain": [
       "MLPClassifier(batch_size=32, hidden_layer_sizes=50, max_iter=300, solver='sgd')"
      ]
     },
     "execution_count": 6,
     "metadata": {},
     "output_type": "execute_result"
    }
   ],
   "source": [
    "# 최적의 은닉 노드 개수로 모델링\n",
    "mlp_test = MLPClassifier(hidden_layer_sizes=(best_number_nodes), \n",
    "                        learning_rate_init=0.001, \n",
    "                        batch_size=32, max_iter=300, solver='sgd')\n",
    "mlp_test.fit(x_train, y_train)"
   ]
  },
  {
   "cell_type": "code",
   "execution_count": 7,
   "metadata": {},
   "outputs": [],
   "source": [
    "# 테스트 집합으로 예측\n",
    "res = mlp_test.predict(x_test)"
   ]
  },
  {
   "cell_type": "code",
   "execution_count": 8,
   "metadata": {},
   "outputs": [
    {
     "name": "stdout",
     "output_type": "stream",
     "text": [
      "[[77.  0.  0.  0.  0.  0.  0.  0.  0.  0.]\n",
      " [ 0. 73.  1.  0.  1.  0.  1.  0.  1.  0.]\n",
      " [ 0.  0. 69.  0.  0.  0.  0.  0.  0.  0.]\n",
      " [ 0.  0.  0. 68.  0.  0.  0.  1.  0.  0.]\n",
      " [ 0.  0.  0.  0. 65.  0.  0.  1.  0.  1.]\n",
      " [ 0.  0.  0.  1.  0. 71.  1.  0.  0.  1.]\n",
      " [ 0.  0.  0.  0.  0.  0. 77.  0.  0.  0.]\n",
      " [ 0.  0.  0.  0.  1.  0.  0. 66.  0.  2.]\n",
      " [ 0.  3.  0.  0.  0.  1.  0.  0. 71.  1.]\n",
      " [ 0.  0.  0.  0.  0.  1.  0.  0.  1. 62.]]\n"
     ]
    }
   ],
   "source": [
    "# 혼동 행렬\n",
    "conf = np.zeros((10, 10))\n",
    "for i in range(len(res)):\n",
    "    conf[res[i]][y_test[i]] += 1\n",
    "print(conf)"
   ]
  },
  {
   "cell_type": "code",
   "execution_count": 9,
   "metadata": {},
   "outputs": [
    {
     "name": "stdout",
     "output_type": "stream",
     "text": [
      "테스트 집합에 대한 정확률은 97.2183588317107 %입니다.\n"
     ]
    }
   ],
   "source": [
    "# accuracy\n",
    "no_correct = 0\n",
    "for i in range(10):\n",
    "    no_correct += conf[i][i]\n",
    "accuracy = no_correct/len(res)\n",
    "print(\"테스트 집합에 대한 정확률은\", accuracy*100, \"%입니다.\")"
   ]
  }
 ],
 "metadata": {
  "kernelspec": {
   "display_name": "api",
   "language": "python",
   "name": "python3"
  },
  "language_info": {
   "codemirror_mode": {
    "name": "ipython",
    "version": 3
   },
   "file_extension": ".py",
   "mimetype": "text/x-python",
   "name": "python",
   "nbconvert_exporter": "python",
   "pygments_lexer": "ipython3",
   "version": "3.7.16"
  },
  "orig_nbformat": 4,
  "vscode": {
   "interpreter": {
    "hash": "7d6becc2a03eb1d3a0003abbb7d06bd320b2f8d9ef53e81460f893735b5a2d16"
   }
  }
 },
 "nbformat": 4,
 "nbformat_minor": 2
}

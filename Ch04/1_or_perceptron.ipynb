{
 "cells": [
  {
   "cell_type": "code",
   "execution_count": 1,
   "metadata": {},
   "outputs": [
    {
     "name": "stdout",
     "output_type": "stream",
     "text": [
      "학습된 퍼셉트론의 매개변수:  [[2. 2.]] [-1.]\n",
      "훈련집합에 대한 예측 :  [-1  1  1  1]\n",
      "정확률 측정:  100.0 %\n"
     ]
    }
   ],
   "source": [
    "from sklearn.linear_model import Perceptron\n",
    "\n",
    "# 훈련 집합 구축\n",
    "X = [[0, 0], [0, 1], [1, 0], [1, 1]]\n",
    "y = [-1, 1, 1, 1]\n",
    "\n",
    "# fit 함수로 Perceptron 학습\n",
    "p = Perceptron()\n",
    "p.fit(X, y)\n",
    "\n",
    "print(\"학습된 퍼셉트론의 매개변수: \", p.coef_, p.intercept_)\n",
    "print(\"훈련집합에 대한 예측 : \", p.predict(X))\n",
    "print(\"정확률 측정: \", p.score(X, y) * 100, \"%\")"
   ]
  }
 ],
 "metadata": {
  "kernelspec": {
   "display_name": "api",
   "language": "python",
   "name": "python3"
  },
  "language_info": {
   "codemirror_mode": {
    "name": "ipython",
    "version": 3
   },
   "file_extension": ".py",
   "mimetype": "text/x-python",
   "name": "python",
   "nbconvert_exporter": "python",
   "pygments_lexer": "ipython3",
   "version": "3.7.16"
  },
  "orig_nbformat": 4,
  "vscode": {
   "interpreter": {
    "hash": "7d6becc2a03eb1d3a0003abbb7d06bd320b2f8d9ef53e81460f893735b5a2d16"
   }
  }
 },
 "nbformat": 4,
 "nbformat_minor": 2
}
